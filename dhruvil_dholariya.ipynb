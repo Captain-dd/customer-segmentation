{
 "cells": [
  {
   "cell_type": "code",
   "execution_count": 1,
   "id": "f76ee49c",
   "metadata": {
    "ExecuteTime": {
     "end_time": "2022-07-03T19:25:26.864197Z",
     "start_time": "2022-07-03T19:25:25.333278Z"
    }
   },
   "outputs": [],
   "source": [
    "import pandas as pd\n",
    "import seaborn as sns\n",
    "import matplotlib.pyplot as plt\n",
    "from datetime import datetime, timedelta\n",
    "import math\n",
    "\n",
    "from sklearn.cluster import KMeans\n",
    "\n",
    "from tqdm import tqdm"
   ]
  },
  {
   "cell_type": "code",
   "execution_count": 2,
   "id": "6e2ff424",
   "metadata": {
    "ExecuteTime": {
     "end_time": "2022-07-03T19:25:26.895037Z",
     "start_time": "2022-07-03T19:25:26.865198Z"
    }
   },
   "outputs": [],
   "source": [
    "df = pd.read_csv('dataset.csv')"
   ]
  },
  {
   "cell_type": "code",
   "execution_count": 3,
   "id": "8665cb01",
   "metadata": {
    "ExecuteTime": {
     "end_time": "2022-07-03T19:25:26.926978Z",
     "start_time": "2022-07-03T19:25:26.896029Z"
    }
   },
   "outputs": [
    {
     "data": {
      "text/html": [
       "<div>\n",
       "<style scoped>\n",
       "    .dataframe tbody tr th:only-of-type {\n",
       "        vertical-align: middle;\n",
       "    }\n",
       "\n",
       "    .dataframe tbody tr th {\n",
       "        vertical-align: top;\n",
       "    }\n",
       "\n",
       "    .dataframe thead th {\n",
       "        text-align: right;\n",
       "    }\n",
       "</style>\n",
       "<table border=\"1\" class=\"dataframe\">\n",
       "  <thead>\n",
       "    <tr style=\"text-align: right;\">\n",
       "      <th></th>\n",
       "      <th>ID</th>\n",
       "      <th>Year_Birth</th>\n",
       "      <th>Education</th>\n",
       "      <th>Marital_Status</th>\n",
       "      <th>Income</th>\n",
       "      <th>Kidhome</th>\n",
       "      <th>Teenhome</th>\n",
       "      <th>Dt_Customer</th>\n",
       "      <th>Recency</th>\n",
       "      <th>MntWines</th>\n",
       "      <th>...</th>\n",
       "      <th>NumWebVisitsMonth</th>\n",
       "      <th>AcceptedCmp3</th>\n",
       "      <th>AcceptedCmp4</th>\n",
       "      <th>AcceptedCmp5</th>\n",
       "      <th>AcceptedCmp1</th>\n",
       "      <th>AcceptedCmp2</th>\n",
       "      <th>Complain</th>\n",
       "      <th>Z_CostContact</th>\n",
       "      <th>Z_Revenue</th>\n",
       "      <th>Response</th>\n",
       "    </tr>\n",
       "  </thead>\n",
       "  <tbody>\n",
       "    <tr>\n",
       "      <th>0</th>\n",
       "      <td>5524</td>\n",
       "      <td>1957</td>\n",
       "      <td>Graduation</td>\n",
       "      <td>Single</td>\n",
       "      <td>58138.0</td>\n",
       "      <td>0</td>\n",
       "      <td>0</td>\n",
       "      <td>04-09-2012</td>\n",
       "      <td>58</td>\n",
       "      <td>635</td>\n",
       "      <td>...</td>\n",
       "      <td>7</td>\n",
       "      <td>0</td>\n",
       "      <td>0</td>\n",
       "      <td>0</td>\n",
       "      <td>0</td>\n",
       "      <td>0</td>\n",
       "      <td>0</td>\n",
       "      <td>3</td>\n",
       "      <td>11</td>\n",
       "      <td>1</td>\n",
       "    </tr>\n",
       "    <tr>\n",
       "      <th>1</th>\n",
       "      <td>2174</td>\n",
       "      <td>1954</td>\n",
       "      <td>Graduation</td>\n",
       "      <td>Single</td>\n",
       "      <td>46344.0</td>\n",
       "      <td>1</td>\n",
       "      <td>1</td>\n",
       "      <td>08-03-2014</td>\n",
       "      <td>38</td>\n",
       "      <td>11</td>\n",
       "      <td>...</td>\n",
       "      <td>5</td>\n",
       "      <td>0</td>\n",
       "      <td>0</td>\n",
       "      <td>0</td>\n",
       "      <td>0</td>\n",
       "      <td>0</td>\n",
       "      <td>0</td>\n",
       "      <td>3</td>\n",
       "      <td>11</td>\n",
       "      <td>0</td>\n",
       "    </tr>\n",
       "    <tr>\n",
       "      <th>2</th>\n",
       "      <td>4141</td>\n",
       "      <td>1965</td>\n",
       "      <td>Graduation</td>\n",
       "      <td>Together</td>\n",
       "      <td>71613.0</td>\n",
       "      <td>0</td>\n",
       "      <td>0</td>\n",
       "      <td>21-08-2013</td>\n",
       "      <td>26</td>\n",
       "      <td>426</td>\n",
       "      <td>...</td>\n",
       "      <td>4</td>\n",
       "      <td>0</td>\n",
       "      <td>0</td>\n",
       "      <td>0</td>\n",
       "      <td>0</td>\n",
       "      <td>0</td>\n",
       "      <td>0</td>\n",
       "      <td>3</td>\n",
       "      <td>11</td>\n",
       "      <td>0</td>\n",
       "    </tr>\n",
       "    <tr>\n",
       "      <th>3</th>\n",
       "      <td>6182</td>\n",
       "      <td>1984</td>\n",
       "      <td>Graduation</td>\n",
       "      <td>Together</td>\n",
       "      <td>26646.0</td>\n",
       "      <td>1</td>\n",
       "      <td>0</td>\n",
       "      <td>10-02-2014</td>\n",
       "      <td>26</td>\n",
       "      <td>11</td>\n",
       "      <td>...</td>\n",
       "      <td>6</td>\n",
       "      <td>0</td>\n",
       "      <td>0</td>\n",
       "      <td>0</td>\n",
       "      <td>0</td>\n",
       "      <td>0</td>\n",
       "      <td>0</td>\n",
       "      <td>3</td>\n",
       "      <td>11</td>\n",
       "      <td>0</td>\n",
       "    </tr>\n",
       "    <tr>\n",
       "      <th>4</th>\n",
       "      <td>5324</td>\n",
       "      <td>1981</td>\n",
       "      <td>PhD</td>\n",
       "      <td>Married</td>\n",
       "      <td>58293.0</td>\n",
       "      <td>1</td>\n",
       "      <td>0</td>\n",
       "      <td>19-01-2014</td>\n",
       "      <td>94</td>\n",
       "      <td>173</td>\n",
       "      <td>...</td>\n",
       "      <td>5</td>\n",
       "      <td>0</td>\n",
       "      <td>0</td>\n",
       "      <td>0</td>\n",
       "      <td>0</td>\n",
       "      <td>0</td>\n",
       "      <td>0</td>\n",
       "      <td>3</td>\n",
       "      <td>11</td>\n",
       "      <td>0</td>\n",
       "    </tr>\n",
       "    <tr>\n",
       "      <th>...</th>\n",
       "      <td>...</td>\n",
       "      <td>...</td>\n",
       "      <td>...</td>\n",
       "      <td>...</td>\n",
       "      <td>...</td>\n",
       "      <td>...</td>\n",
       "      <td>...</td>\n",
       "      <td>...</td>\n",
       "      <td>...</td>\n",
       "      <td>...</td>\n",
       "      <td>...</td>\n",
       "      <td>...</td>\n",
       "      <td>...</td>\n",
       "      <td>...</td>\n",
       "      <td>...</td>\n",
       "      <td>...</td>\n",
       "      <td>...</td>\n",
       "      <td>...</td>\n",
       "      <td>...</td>\n",
       "      <td>...</td>\n",
       "      <td>...</td>\n",
       "    </tr>\n",
       "    <tr>\n",
       "      <th>2235</th>\n",
       "      <td>10870</td>\n",
       "      <td>1967</td>\n",
       "      <td>Graduation</td>\n",
       "      <td>Married</td>\n",
       "      <td>61223.0</td>\n",
       "      <td>0</td>\n",
       "      <td>1</td>\n",
       "      <td>13-06-2013</td>\n",
       "      <td>46</td>\n",
       "      <td>709</td>\n",
       "      <td>...</td>\n",
       "      <td>5</td>\n",
       "      <td>0</td>\n",
       "      <td>0</td>\n",
       "      <td>0</td>\n",
       "      <td>0</td>\n",
       "      <td>0</td>\n",
       "      <td>0</td>\n",
       "      <td>3</td>\n",
       "      <td>11</td>\n",
       "      <td>0</td>\n",
       "    </tr>\n",
       "    <tr>\n",
       "      <th>2236</th>\n",
       "      <td>4001</td>\n",
       "      <td>1946</td>\n",
       "      <td>PhD</td>\n",
       "      <td>Together</td>\n",
       "      <td>64014.0</td>\n",
       "      <td>2</td>\n",
       "      <td>1</td>\n",
       "      <td>10-06-2014</td>\n",
       "      <td>56</td>\n",
       "      <td>406</td>\n",
       "      <td>...</td>\n",
       "      <td>7</td>\n",
       "      <td>0</td>\n",
       "      <td>0</td>\n",
       "      <td>0</td>\n",
       "      <td>1</td>\n",
       "      <td>0</td>\n",
       "      <td>0</td>\n",
       "      <td>3</td>\n",
       "      <td>11</td>\n",
       "      <td>0</td>\n",
       "    </tr>\n",
       "    <tr>\n",
       "      <th>2237</th>\n",
       "      <td>7270</td>\n",
       "      <td>1981</td>\n",
       "      <td>Graduation</td>\n",
       "      <td>Divorced</td>\n",
       "      <td>56981.0</td>\n",
       "      <td>0</td>\n",
       "      <td>0</td>\n",
       "      <td>25-01-2014</td>\n",
       "      <td>91</td>\n",
       "      <td>908</td>\n",
       "      <td>...</td>\n",
       "      <td>6</td>\n",
       "      <td>0</td>\n",
       "      <td>1</td>\n",
       "      <td>0</td>\n",
       "      <td>0</td>\n",
       "      <td>0</td>\n",
       "      <td>0</td>\n",
       "      <td>3</td>\n",
       "      <td>11</td>\n",
       "      <td>0</td>\n",
       "    </tr>\n",
       "    <tr>\n",
       "      <th>2238</th>\n",
       "      <td>8235</td>\n",
       "      <td>1956</td>\n",
       "      <td>Master</td>\n",
       "      <td>Together</td>\n",
       "      <td>69245.0</td>\n",
       "      <td>0</td>\n",
       "      <td>1</td>\n",
       "      <td>24-01-2014</td>\n",
       "      <td>8</td>\n",
       "      <td>428</td>\n",
       "      <td>...</td>\n",
       "      <td>3</td>\n",
       "      <td>0</td>\n",
       "      <td>0</td>\n",
       "      <td>0</td>\n",
       "      <td>0</td>\n",
       "      <td>0</td>\n",
       "      <td>0</td>\n",
       "      <td>3</td>\n",
       "      <td>11</td>\n",
       "      <td>0</td>\n",
       "    </tr>\n",
       "    <tr>\n",
       "      <th>2239</th>\n",
       "      <td>9405</td>\n",
       "      <td>1954</td>\n",
       "      <td>PhD</td>\n",
       "      <td>Married</td>\n",
       "      <td>52869.0</td>\n",
       "      <td>1</td>\n",
       "      <td>1</td>\n",
       "      <td>15-10-2012</td>\n",
       "      <td>40</td>\n",
       "      <td>84</td>\n",
       "      <td>...</td>\n",
       "      <td>7</td>\n",
       "      <td>0</td>\n",
       "      <td>0</td>\n",
       "      <td>0</td>\n",
       "      <td>0</td>\n",
       "      <td>0</td>\n",
       "      <td>0</td>\n",
       "      <td>3</td>\n",
       "      <td>11</td>\n",
       "      <td>1</td>\n",
       "    </tr>\n",
       "  </tbody>\n",
       "</table>\n",
       "<p>2240 rows × 29 columns</p>\n",
       "</div>"
      ],
      "text/plain": [
       "         ID  Year_Birth   Education Marital_Status   Income  Kidhome  \\\n",
       "0      5524        1957  Graduation         Single  58138.0        0   \n",
       "1      2174        1954  Graduation         Single  46344.0        1   \n",
       "2      4141        1965  Graduation       Together  71613.0        0   \n",
       "3      6182        1984  Graduation       Together  26646.0        1   \n",
       "4      5324        1981         PhD        Married  58293.0        1   \n",
       "...     ...         ...         ...            ...      ...      ...   \n",
       "2235  10870        1967  Graduation        Married  61223.0        0   \n",
       "2236   4001        1946         PhD       Together  64014.0        2   \n",
       "2237   7270        1981  Graduation       Divorced  56981.0        0   \n",
       "2238   8235        1956      Master       Together  69245.0        0   \n",
       "2239   9405        1954         PhD        Married  52869.0        1   \n",
       "\n",
       "      Teenhome Dt_Customer  Recency  MntWines  ...  NumWebVisitsMonth  \\\n",
       "0            0  04-09-2012       58       635  ...                  7   \n",
       "1            1  08-03-2014       38        11  ...                  5   \n",
       "2            0  21-08-2013       26       426  ...                  4   \n",
       "3            0  10-02-2014       26        11  ...                  6   \n",
       "4            0  19-01-2014       94       173  ...                  5   \n",
       "...        ...         ...      ...       ...  ...                ...   \n",
       "2235         1  13-06-2013       46       709  ...                  5   \n",
       "2236         1  10-06-2014       56       406  ...                  7   \n",
       "2237         0  25-01-2014       91       908  ...                  6   \n",
       "2238         1  24-01-2014        8       428  ...                  3   \n",
       "2239         1  15-10-2012       40        84  ...                  7   \n",
       "\n",
       "      AcceptedCmp3  AcceptedCmp4  AcceptedCmp5  AcceptedCmp1  AcceptedCmp2  \\\n",
       "0                0             0             0             0             0   \n",
       "1                0             0             0             0             0   \n",
       "2                0             0             0             0             0   \n",
       "3                0             0             0             0             0   \n",
       "4                0             0             0             0             0   \n",
       "...            ...           ...           ...           ...           ...   \n",
       "2235             0             0             0             0             0   \n",
       "2236             0             0             0             1             0   \n",
       "2237             0             1             0             0             0   \n",
       "2238             0             0             0             0             0   \n",
       "2239             0             0             0             0             0   \n",
       "\n",
       "      Complain  Z_CostContact  Z_Revenue  Response  \n",
       "0            0              3         11         1  \n",
       "1            0              3         11         0  \n",
       "2            0              3         11         0  \n",
       "3            0              3         11         0  \n",
       "4            0              3         11         0  \n",
       "...        ...            ...        ...       ...  \n",
       "2235         0              3         11         0  \n",
       "2236         0              3         11         0  \n",
       "2237         0              3         11         0  \n",
       "2238         0              3         11         0  \n",
       "2239         0              3         11         1  \n",
       "\n",
       "[2240 rows x 29 columns]"
      ]
     },
     "execution_count": 3,
     "metadata": {},
     "output_type": "execute_result"
    }
   ],
   "source": [
    "df"
   ]
  },
  {
   "cell_type": "markdown",
   "id": "bbeb0423",
   "metadata": {},
   "source": [
    "# Data preprocessing"
   ]
  },
  {
   "cell_type": "markdown",
   "id": "f4fd3b9b",
   "metadata": {},
   "source": [
    "# Handling missing values"
   ]
  },
  {
   "cell_type": "code",
   "execution_count": 4,
   "id": "1cf75d85",
   "metadata": {
    "ExecuteTime": {
     "end_time": "2022-07-03T19:25:26.942904Z",
     "start_time": "2022-07-03T19:25:26.928952Z"
    }
   },
   "outputs": [
    {
     "data": {
      "text/plain": [
       "ID                      0\n",
       "Year_Birth              0\n",
       "Education               0\n",
       "Marital_Status          0\n",
       "Income                 24\n",
       "Kidhome                 0\n",
       "Teenhome                0\n",
       "Dt_Customer             0\n",
       "Recency                 0\n",
       "MntWines                0\n",
       "MntFruits               0\n",
       "MntMeatProducts         0\n",
       "MntFishProducts         0\n",
       "MntSweetProducts        0\n",
       "MntGoldProds            0\n",
       "NumDealsPurchases       0\n",
       "NumWebPurchases         0\n",
       "NumCatalogPurchases     0\n",
       "NumStorePurchases       0\n",
       "NumWebVisitsMonth       0\n",
       "AcceptedCmp3            0\n",
       "AcceptedCmp4            0\n",
       "AcceptedCmp5            0\n",
       "AcceptedCmp1            0\n",
       "AcceptedCmp2            0\n",
       "Complain                0\n",
       "Z_CostContact           0\n",
       "Z_Revenue               0\n",
       "Response                0\n",
       "dtype: int64"
      ]
     },
     "execution_count": 4,
     "metadata": {},
     "output_type": "execute_result"
    }
   ],
   "source": [
    "df.isnull().sum()\n",
    "\n",
    "# in income column we have 24 missing vlaues"
   ]
  },
  {
   "cell_type": "markdown",
   "id": "0e33cba6",
   "metadata": {},
   "source": [
    "## income column missing values handling"
   ]
  },
  {
   "cell_type": "code",
   "execution_count": 5,
   "id": "78b0a81b",
   "metadata": {
    "ExecuteTime": {
     "end_time": "2022-07-03T19:25:26.958296Z",
     "start_time": "2022-07-03T19:25:26.943902Z"
    }
   },
   "outputs": [],
   "source": [
    "# we can use mean value imputation but it is not as effective \n",
    "# we will use customized imputation\n",
    "# we will use Education column for income missing value imputation\n",
    "# genrally your income is genrally based on your education"
   ]
  },
  {
   "cell_type": "code",
   "execution_count": 6,
   "id": "aafd7deb",
   "metadata": {
    "ExecuteTime": {
     "end_time": "2022-07-03T19:25:26.974253Z",
     "start_time": "2022-07-03T19:25:26.959295Z"
    }
   },
   "outputs": [
    {
     "data": {
      "text/plain": [
       "0"
      ]
     },
     "execution_count": 6,
     "metadata": {},
     "output_type": "execute_result"
    }
   ],
   "source": [
    "# first we will impute 0 where null values are there\n",
    "\n",
    "df['Income'] = df['Income'].fillna(0)\n",
    "df['Income'].isnull().sum()"
   ]
  },
  {
   "cell_type": "code",
   "execution_count": 7,
   "id": "f62b93e6",
   "metadata": {
    "ExecuteTime": {
     "end_time": "2022-07-03T19:25:26.990211Z",
     "start_time": "2022-07-03T19:25:26.976253Z"
    }
   },
   "outputs": [
    {
     "data": {
      "text/plain": [
       "51687.459375"
      ]
     },
     "execution_count": 7,
     "metadata": {},
     "output_type": "execute_result"
    }
   ],
   "source": [
    "df['Income'].mean()"
   ]
  },
  {
   "cell_type": "code",
   "execution_count": 8,
   "id": "df6cd673",
   "metadata": {
    "ExecuteTime": {
     "end_time": "2022-07-03T19:25:27.006168Z",
     "start_time": "2022-07-03T19:25:26.992206Z"
    }
   },
   "outputs": [
    {
     "data": {
      "text/plain": [
       "array(['Graduation', 'PhD', 'Master', 'Basic', '2n Cycle'], dtype=object)"
      ]
     },
     "execution_count": 8,
     "metadata": {},
     "output_type": "execute_result"
    }
   ],
   "source": [
    "df['Education'].unique()"
   ]
  },
  {
   "cell_type": "code",
   "execution_count": 9,
   "id": "9e2ef969",
   "metadata": {
    "ExecuteTime": {
     "end_time": "2022-07-03T19:25:27.022125Z",
     "start_time": "2022-07-03T19:25:27.007166Z"
    }
   },
   "outputs": [
    {
     "name": "stdout",
     "output_type": "stream",
     "text": [
      "Graduation 11\n",
      "PhD 5\n",
      "Master 5\n",
      "Basic 0\n",
      "2n Cycle 3\n"
     ]
    }
   ],
   "source": [
    "# now we will find how many missing values are present for respective education \n",
    "\n",
    "\n",
    "for i in df['Education'].unique():\n",
    "    aa = df.loc[(df['Education'] == i)& (df['Income'] == 0)].shape[0]\n",
    "    print(i, aa)\n",
    "    \n"
   ]
  },
  {
   "cell_type": "code",
   "execution_count": 10,
   "id": "4ba6ecae",
   "metadata": {
    "ExecuteTime": {
     "end_time": "2022-07-03T19:25:27.195648Z",
     "start_time": "2022-07-03T19:25:27.025121Z"
    }
   },
   "outputs": [
    {
     "data": {
      "text/plain": [
       "<AxesSubplot:xlabel='Education,Education'>"
      ]
     },
     "execution_count": 10,
     "metadata": {},
     "output_type": "execute_result"
    },
    {
     "data": {
      "image/png": "[encoded data removed]",
      "text/plain": [
       "<Figure size 432x288 with 1 Axes>"
      ]
     },
     "metadata": {
      "needs_background": "light"
     },
     "output_type": "display_data"
    }
   ],
   "source": [
    "df.groupby('Education').Education.value_counts().plot.bar()\n",
    "\n",
    "# most people are graduates"
   ]
  },
  {
   "cell_type": "code",
   "execution_count": 11,
   "id": "9db75121",
   "metadata": {
    "ExecuteTime": {
     "end_time": "2022-07-03T19:25:27.508204Z",
     "start_time": "2022-07-03T19:25:27.196645Z"
    }
   },
   "outputs": [
    {
     "name": "stderr",
     "output_type": "stream",
     "text": [
      "c:\\python38\\lib\\site-packages\\seaborn\\distributions.py:2619: FutureWarning: `distplot` is a deprecated function and will be removed in a future version. Please adapt your code to use either `displot` (a figure-level function with similar flexibility) or `histplot` (an axes-level function for histograms).\n",
      "  warnings.warn(msg, FutureWarning)\n",
      "c:\\python38\\lib\\site-packages\\seaborn\\distributions.py:2619: FutureWarning: `distplot` is a deprecated function and will be removed in a future version. Please adapt your code to use either `displot` (a figure-level function with similar flexibility) or `histplot` (an axes-level function for histograms).\n",
      "  warnings.warn(msg, FutureWarning)\n",
      "c:\\python38\\lib\\site-packages\\seaborn\\distributions.py:2619: FutureWarning: `distplot` is a deprecated function and will be removed in a future version. Please adapt your code to use either `displot` (a figure-level function with similar flexibility) or `histplot` (an axes-level function for histograms).\n",
      "  warnings.warn(msg, FutureWarning)\n",
      "c:\\python38\\lib\\site-packages\\seaborn\\distributions.py:2619: FutureWarning: `distplot` is a deprecated function and will be removed in a future version. Please adapt your code to use either `displot` (a figure-level function with similar flexibility) or `histplot` (an axes-level function for histograms).\n",
      "  warnings.warn(msg, FutureWarning)\n"
     ]
    },
    {
     "data": {
      "text/plain": [
       "<matplotlib.legend.Legend at 0x2a5df8b10d0>"
      ]
     },
     "execution_count": 11,
     "metadata": {},
     "output_type": "execute_result"
    },
    {
     "data": {
      "image/png": "[encoded data removed]",
      "text/plain": [
       "<Figure size 432x288 with 1 Axes>"
      ]
     },
     "metadata": {
      "needs_background": "light"
     },
     "output_type": "display_data"
    }
   ],
   "source": [
    "graduation_income = df.loc[df['Education'] == 'Graduation']['Income']\n",
    "master_income = df.loc[df['Education'] == 'Master']['Income']\n",
    "phd_income = df.loc[df['Education'] == 'PhD']['Income']\n",
    "cycle_income = df.loc[df['Education'] == '2n Cycle']['Income']\n",
    "\n",
    "sns.distplot(graduation_income)\n",
    "sns.distplot(master_income)\n",
    "sns.distplot(phd_income)\n",
    "sns.distplot(cycle_income)\n",
    "plt.legend(labels=['graduation income', 'master_income', 'phd_income', 'basic_income'])\n"
   ]
  },
  {
   "cell_type": "code",
   "execution_count": 12,
   "id": "5fd78ad3",
   "metadata": {
    "ExecuteTime": {
     "end_time": "2022-07-03T19:25:27.524162Z",
     "start_time": "2022-07-03T19:25:27.510196Z"
    }
   },
   "outputs": [
    {
     "data": {
      "text/plain": [
       "count      203.000000\n",
       "mean     46929.251232\n",
       "std      22697.720075\n",
       "min          0.000000\n",
       "25%      26897.000000\n",
       "50%      46772.000000\n",
       "75%      65100.500000\n",
       "max      96547.000000\n",
       "Name: Income, dtype: float64"
      ]
     },
     "execution_count": 12,
     "metadata": {},
     "output_type": "execute_result"
    }
   ],
   "source": [
    "cycle_income.describe()"
   ]
  },
  {
   "cell_type": "code",
   "execution_count": 13,
   "id": "e1a34110",
   "metadata": {
    "ExecuteTime": {
     "end_time": "2022-07-03T19:25:27.540121Z",
     "start_time": "2022-07-03T19:25:27.526159Z"
    }
   },
   "outputs": [],
   "source": [
    "# mean of income column is 51.5 k and mean of income whoses education is 2n cycle is nearly 47k \n",
    "# so it is better to put 47k mean at missing values where education is 2n cycle\n",
    "\n",
    "# simmilary we will find mean income value of every education and impute that mean value"
   ]
  },
  {
   "cell_type": "code",
   "execution_count": 14,
   "id": "1a5635bb",
   "metadata": {
    "ExecuteTime": {
     "end_time": "2022-07-03T19:25:27.556074Z",
     "start_time": "2022-07-03T19:25:27.544127Z"
    }
   },
   "outputs": [
    {
     "data": {
      "text/plain": [
       "count      1127.000000\n",
       "mean      52205.800355\n",
       "std       28514.654878\n",
       "min           0.000000\n",
       "25%       34593.500000\n",
       "50%       51651.000000\n",
       "75%       69737.000000\n",
       "max      666666.000000\n",
       "Name: Income, dtype: float64"
      ]
     },
     "execution_count": 14,
     "metadata": {},
     "output_type": "execute_result"
    }
   ],
   "source": [
    "graduation_income.describe()"
   ]
  },
  {
   "cell_type": "code",
   "execution_count": null,
   "id": "e2c90ba1",
   "metadata": {},
   "outputs": [],
   "source": []
  },
  {
   "cell_type": "code",
   "execution_count": 15,
   "id": "a3c6a67f",
   "metadata": {
    "ExecuteTime": {
     "end_time": "2022-07-03T19:25:27.572031Z",
     "start_time": "2022-07-03T19:25:27.559069Z"
    }
   },
   "outputs": [
    {
     "data": {
      "text/plain": [
       "count       370.000000\n",
       "mean      52202.432432\n",
       "std       20934.701438\n",
       "min           0.000000\n",
       "25%       36982.750000\n",
       "50%       50183.500000\n",
       "75%       66596.000000\n",
       "max      157733.000000\n",
       "Name: Income, dtype: float64"
      ]
     },
     "execution_count": 15,
     "metadata": {},
     "output_type": "execute_result"
    }
   ],
   "source": [
    "master_income.describe()"
   ]
  },
  {
   "cell_type": "code",
   "execution_count": 16,
   "id": "25173795",
   "metadata": {
    "ExecuteTime": {
     "end_time": "2022-07-03T19:25:27.587988Z",
     "start_time": "2022-07-03T19:25:27.575023Z"
    }
   },
   "outputs": [
    {
     "data": {
      "text/plain": [
       "count       486.000000\n",
       "mean      55567.687243\n",
       "std       21276.234237\n",
       "min           0.000000\n",
       "25%       39821.250000\n",
       "50%       55005.000000\n",
       "75%       69084.000000\n",
       "max      162397.000000\n",
       "Name: Income, dtype: float64"
      ]
     },
     "execution_count": 16,
     "metadata": {},
     "output_type": "execute_result"
    }
   ],
   "source": [
    "phd_income.describe()"
   ]
  },
  {
   "cell_type": "code",
   "execution_count": 17,
   "id": "c22bb2cc",
   "metadata": {
    "ExecuteTime": {
     "end_time": "2022-07-03T19:25:27.603946Z",
     "start_time": "2022-07-03T19:25:27.588985Z"
    }
   },
   "outputs": [
    {
     "data": {
      "text/plain": [
       "{'Graduation': 52205.80035492458,\n",
       " 'PhD': 55567.687242798354,\n",
       " 'Master': 52202.43243243243,\n",
       " '2n Cycle': 46929.251231527094}"
      ]
     },
     "execution_count": 17,
     "metadata": {},
     "output_type": "execute_result"
    }
   ],
   "source": [
    "mean_value = {'Graduation':graduation_income.mean(), 'PhD':phd_income.mean(), 'Master':master_income.mean(),  '2n Cycle':cycle_income.mean()}\n",
    "\n",
    "mean_value"
   ]
  },
  {
   "cell_type": "code",
   "execution_count": 18,
   "id": "75665258",
   "metadata": {
    "ExecuteTime": {
     "end_time": "2022-07-03T19:25:27.619902Z",
     "start_time": "2022-07-03T19:25:27.604948Z"
    }
   },
   "outputs": [],
   "source": [
    "# imputing missing values of income column\n",
    "for i in range(df.shape[0]):\n",
    "    \n",
    "    if df.at[i, 'Income'] == 0 :\n",
    "        df.at[i, 'Income'] = mean_value[df.at[i, 'Education']]\n",
    "    "
   ]
  },
  {
   "cell_type": "markdown",
   "id": "0434d370",
   "metadata": {},
   "source": [
    "# Handling categorical variable"
   ]
  },
  {
   "cell_type": "code",
   "execution_count": 19,
   "id": "85496f21",
   "metadata": {
    "ExecuteTime": {
     "end_time": "2022-07-03T19:25:27.635859Z",
     "start_time": "2022-07-03T19:25:27.620900Z"
    }
   },
   "outputs": [
    {
     "name": "stdout",
     "output_type": "stream",
     "text": [
      "<class 'pandas.core.frame.DataFrame'>\n",
      "RangeIndex: 2240 entries, 0 to 2239\n",
      "Data columns (total 29 columns):\n",
      " #   Column               Non-Null Count  Dtype  \n",
      "---  ------               --------------  -----  \n",
      " 0   ID                   2240 non-null   int64  \n",
      " 1   Year_Birth           2240 non-null   int64  \n",
      " 2   Education            2240 non-null   object \n",
      " 3   Marital_Status       2240 non-null   object \n",
      " 4   Income               2240 non-null   float64\n",
      " 5   Kidhome              2240 non-null   int64  \n",
      " 6   Teenhome             2240 non-null   int64  \n",
      " 7   Dt_Customer          2240 non-null   object \n",
      " 8   Recency              2240 non-null   int64  \n",
      " 9   MntWines             2240 non-null   int64  \n",
      " 10  MntFruits            2240 non-null   int64  \n",
      " 11  MntMeatProducts      2240 non-null   int64  \n",
      " 12  MntFishProducts      2240 non-null   int64  \n",
      " 13  MntSweetProducts     2240 non-null   int64  \n",
      " 14  MntGoldProds         2240 non-null   int64  \n",
      " 15  NumDealsPurchases    2240 non-null   int64  \n",
      " 16  NumWebPurchases      2240 non-null   int64  \n",
      " 17  NumCatalogPurchases  2240 non-null   int64  \n",
      " 18  NumStorePurchases    2240 non-null   int64  \n",
      " 19  NumWebVisitsMonth    2240 non-null   int64  \n",
      " 20  AcceptedCmp3         2240 non-null   int64  \n",
      " 21  AcceptedCmp4         2240 non-null   int64  \n",
      " 22  AcceptedCmp5         2240 non-null   int64  \n",
      " 23  AcceptedCmp1         2240 non-null   int64  \n",
      " 24  AcceptedCmp2         2240 non-null   int64  \n",
      " 25  Complain             2240 non-null   int64  \n",
      " 26  Z_CostContact        2240 non-null   int64  \n",
      " 27  Z_Revenue            2240 non-null   int64  \n",
      " 28  Response             2240 non-null   int64  \n",
      "dtypes: float64(1), int64(25), object(3)\n",
      "memory usage: 507.6+ KB\n"
     ]
    }
   ],
   "source": [
    "df.info()"
   ]
  },
  {
   "cell_type": "code",
   "execution_count": 20,
   "id": "b91faff0",
   "metadata": {
    "ExecuteTime": {
     "end_time": "2022-07-03T19:25:27.650840Z",
     "start_time": "2022-07-03T19:25:27.636857Z"
    }
   },
   "outputs": [],
   "source": [
    "# education, martial_Status, DT_customer\n",
    "# we will use pandas to encode education column and marital status column"
   ]
  },
  {
   "cell_type": "code",
   "execution_count": 21,
   "id": "db7dd007",
   "metadata": {
    "ExecuteTime": {
     "end_time": "2022-07-03T19:25:27.680465Z",
     "start_time": "2022-07-03T19:25:27.651834Z"
    }
   },
   "outputs": [
    {
     "data": {
      "text/html": [
       "<div>\n",
       "<style scoped>\n",
       "    .dataframe tbody tr th:only-of-type {\n",
       "        vertical-align: middle;\n",
       "    }\n",
       "\n",
       "    .dataframe tbody tr th {\n",
       "        vertical-align: top;\n",
       "    }\n",
       "\n",
       "    .dataframe thead th {\n",
       "        text-align: right;\n",
       "    }\n",
       "</style>\n",
       "<table border=\"1\" class=\"dataframe\">\n",
       "  <thead>\n",
       "    <tr style=\"text-align: right;\">\n",
       "      <th></th>\n",
       "      <th>ID</th>\n",
       "      <th>Year_Birth</th>\n",
       "      <th>Income</th>\n",
       "      <th>Kidhome</th>\n",
       "      <th>Teenhome</th>\n",
       "      <th>Dt_Customer</th>\n",
       "      <th>Recency</th>\n",
       "      <th>MntWines</th>\n",
       "      <th>MntFruits</th>\n",
       "      <th>MntMeatProducts</th>\n",
       "      <th>...</th>\n",
       "      <th>Education_Master</th>\n",
       "      <th>Education_PhD</th>\n",
       "      <th>Marital_Status_Absurd</th>\n",
       "      <th>Marital_Status_Alone</th>\n",
       "      <th>Marital_Status_Divorced</th>\n",
       "      <th>Marital_Status_Married</th>\n",
       "      <th>Marital_Status_Single</th>\n",
       "      <th>Marital_Status_Together</th>\n",
       "      <th>Marital_Status_Widow</th>\n",
       "      <th>Marital_Status_YOLO</th>\n",
       "    </tr>\n",
       "  </thead>\n",
       "  <tbody>\n",
       "    <tr>\n",
       "      <th>0</th>\n",
       "      <td>5524</td>\n",
       "      <td>1957</td>\n",
       "      <td>58138.0</td>\n",
       "      <td>0</td>\n",
       "      <td>0</td>\n",
       "      <td>04-09-2012</td>\n",
       "      <td>58</td>\n",
       "      <td>635</td>\n",
       "      <td>88</td>\n",
       "      <td>546</td>\n",
       "      <td>...</td>\n",
       "      <td>0</td>\n",
       "      <td>0</td>\n",
       "      <td>0</td>\n",
       "      <td>0</td>\n",
       "      <td>0</td>\n",
       "      <td>0</td>\n",
       "      <td>1</td>\n",
       "      <td>0</td>\n",
       "      <td>0</td>\n",
       "      <td>0</td>\n",
       "    </tr>\n",
       "    <tr>\n",
       "      <th>1</th>\n",
       "      <td>2174</td>\n",
       "      <td>1954</td>\n",
       "      <td>46344.0</td>\n",
       "      <td>1</td>\n",
       "      <td>1</td>\n",
       "      <td>08-03-2014</td>\n",
       "      <td>38</td>\n",
       "      <td>11</td>\n",
       "      <td>1</td>\n",
       "      <td>6</td>\n",
       "      <td>...</td>\n",
       "      <td>0</td>\n",
       "      <td>0</td>\n",
       "      <td>0</td>\n",
       "      <td>0</td>\n",
       "      <td>0</td>\n",
       "      <td>0</td>\n",
       "      <td>1</td>\n",
       "      <td>0</td>\n",
       "      <td>0</td>\n",
       "      <td>0</td>\n",
       "    </tr>\n",
       "    <tr>\n",
       "      <th>2</th>\n",
       "      <td>4141</td>\n",
       "      <td>1965</td>\n",
       "      <td>71613.0</td>\n",
       "      <td>0</td>\n",
       "      <td>0</td>\n",
       "      <td>21-08-2013</td>\n",
       "      <td>26</td>\n",
       "      <td>426</td>\n",
       "      <td>49</td>\n",
       "      <td>127</td>\n",
       "      <td>...</td>\n",
       "      <td>0</td>\n",
       "      <td>0</td>\n",
       "      <td>0</td>\n",
       "      <td>0</td>\n",
       "      <td>0</td>\n",
       "      <td>0</td>\n",
       "      <td>0</td>\n",
       "      <td>1</td>\n",
       "      <td>0</td>\n",
       "      <td>0</td>\n",
       "    </tr>\n",
       "    <tr>\n",
       "      <th>3</th>\n",
       "      <td>6182</td>\n",
       "      <td>1984</td>\n",
       "      <td>26646.0</td>\n",
       "      <td>1</td>\n",
       "      <td>0</td>\n",
       "      <td>10-02-2014</td>\n",
       "      <td>26</td>\n",
       "      <td>11</td>\n",
       "      <td>4</td>\n",
       "      <td>20</td>\n",
       "      <td>...</td>\n",
       "      <td>0</td>\n",
       "      <td>0</td>\n",
       "      <td>0</td>\n",
       "      <td>0</td>\n",
       "      <td>0</td>\n",
       "      <td>0</td>\n",
       "      <td>0</td>\n",
       "      <td>1</td>\n",
       "      <td>0</td>\n",
       "      <td>0</td>\n",
       "    </tr>\n",
       "    <tr>\n",
       "      <th>4</th>\n",
       "      <td>5324</td>\n",
       "      <td>1981</td>\n",
       "      <td>58293.0</td>\n",
       "      <td>1</td>\n",
       "      <td>0</td>\n",
       "      <td>19-01-2014</td>\n",
       "      <td>94</td>\n",
       "      <td>173</td>\n",
       "      <td>43</td>\n",
       "      <td>118</td>\n",
       "      <td>...</td>\n",
       "      <td>0</td>\n",
       "      <td>1</td>\n",
       "      <td>0</td>\n",
       "      <td>0</td>\n",
       "      <td>0</td>\n",
       "      <td>1</td>\n",
       "      <td>0</td>\n",
       "      <td>0</td>\n",
       "      <td>0</td>\n",
       "      <td>0</td>\n",
       "    </tr>\n",
       "    <tr>\n",
       "      <th>...</th>\n",
       "      <td>...</td>\n",
       "      <td>...</td>\n",
       "      <td>...</td>\n",
       "      <td>...</td>\n",
       "      <td>...</td>\n",
       "      <td>...</td>\n",
       "      <td>...</td>\n",
       "      <td>...</td>\n",
       "      <td>...</td>\n",
       "      <td>...</td>\n",
       "      <td>...</td>\n",
       "      <td>...</td>\n",
       "      <td>...</td>\n",
       "      <td>...</td>\n",
       "      <td>...</td>\n",
       "      <td>...</td>\n",
       "      <td>...</td>\n",
       "      <td>...</td>\n",
       "      <td>...</td>\n",
       "      <td>...</td>\n",
       "      <td>...</td>\n",
       "    </tr>\n",
       "    <tr>\n",
       "      <th>2235</th>\n",
       "      <td>10870</td>\n",
       "      <td>1967</td>\n",
       "      <td>61223.0</td>\n",
       "      <td>0</td>\n",
       "      <td>1</td>\n",
       "      <td>13-06-2013</td>\n",
       "      <td>46</td>\n",
       "      <td>709</td>\n",
       "      <td>43</td>\n",
       "      <td>182</td>\n",
       "      <td>...</td>\n",
       "      <td>0</td>\n",
       "      <td>0</td>\n",
       "      <td>0</td>\n",
       "      <td>0</td>\n",
       "      <td>0</td>\n",
       "      <td>1</td>\n",
       "      <td>0</td>\n",
       "      <td>0</td>\n",
       "      <td>0</td>\n",
       "      <td>0</td>\n",
       "    </tr>\n",
       "    <tr>\n",
       "      <th>2236</th>\n",
       "      <td>4001</td>\n",
       "      <td>1946</td>\n",
       "      <td>64014.0</td>\n",
       "      <td>2</td>\n",
       "      <td>1</td>\n",
       "      <td>10-06-2014</td>\n",
       "      <td>56</td>\n",
       "      <td>406</td>\n",
       "      <td>0</td>\n",
       "      <td>30</td>\n",
       "      <td>...</td>\n",
       "      <td>0</td>\n",
       "      <td>1</td>\n",
       "      <td>0</td>\n",
       "      <td>0</td>\n",
       "      <td>0</td>\n",
       "      <td>0</td>\n",
       "      <td>0</td>\n",
       "      <td>1</td>\n",
       "      <td>0</td>\n",
       "      <td>0</td>\n",
       "    </tr>\n",
       "    <tr>\n",
       "      <th>2237</th>\n",
       "      <td>7270</td>\n",
       "      <td>1981</td>\n",
       "      <td>56981.0</td>\n",
       "      <td>0</td>\n",
       "      <td>0</td>\n",
       "      <td>25-01-2014</td>\n",
       "      <td>91</td>\n",
       "      <td>908</td>\n",
       "      <td>48</td>\n",
       "      <td>217</td>\n",
       "      <td>...</td>\n",
       "      <td>0</td>\n",
       "      <td>0</td>\n",
       "      <td>0</td>\n",
       "      <td>0</td>\n",
       "      <td>1</td>\n",
       "      <td>0</td>\n",
       "      <td>0</td>\n",
       "      <td>0</td>\n",
       "      <td>0</td>\n",
       "      <td>0</td>\n",
       "    </tr>\n",
       "    <tr>\n",
       "      <th>2238</th>\n",
       "      <td>8235</td>\n",
       "      <td>1956</td>\n",
       "      <td>69245.0</td>\n",
       "      <td>0</td>\n",
       "      <td>1</td>\n",
       "      <td>24-01-2014</td>\n",
       "      <td>8</td>\n",
       "      <td>428</td>\n",
       "      <td>30</td>\n",
       "      <td>214</td>\n",
       "      <td>...</td>\n",
       "      <td>1</td>\n",
       "      <td>0</td>\n",
       "      <td>0</td>\n",
       "      <td>0</td>\n",
       "      <td>0</td>\n",
       "      <td>0</td>\n",
       "      <td>0</td>\n",
       "      <td>1</td>\n",
       "      <td>0</td>\n",
       "      <td>0</td>\n",
       "    </tr>\n",
       "    <tr>\n",
       "      <th>2239</th>\n",
       "      <td>9405</td>\n",
       "      <td>1954</td>\n",
       "      <td>52869.0</td>\n",
       "      <td>1</td>\n",
       "      <td>1</td>\n",
       "      <td>15-10-2012</td>\n",
       "      <td>40</td>\n",
       "      <td>84</td>\n",
       "      <td>3</td>\n",
       "      <td>61</td>\n",
       "      <td>...</td>\n",
       "      <td>0</td>\n",
       "      <td>1</td>\n",
       "      <td>0</td>\n",
       "      <td>0</td>\n",
       "      <td>0</td>\n",
       "      <td>1</td>\n",
       "      <td>0</td>\n",
       "      <td>0</td>\n",
       "      <td>0</td>\n",
       "      <td>0</td>\n",
       "    </tr>\n",
       "  </tbody>\n",
       "</table>\n",
       "<p>2240 rows × 40 columns</p>\n",
       "</div>"
      ],
      "text/plain": [
       "         ID  Year_Birth   Income  Kidhome  Teenhome Dt_Customer  Recency  \\\n",
       "0      5524        1957  58138.0        0         0  04-09-2012       58   \n",
       "1      2174        1954  46344.0        1         1  08-03-2014       38   \n",
       "2      4141        1965  71613.0        0         0  21-08-2013       26   \n",
       "3      6182        1984  26646.0        1         0  10-02-2014       26   \n",
       "4      5324        1981  58293.0        1         0  19-01-2014       94   \n",
       "...     ...         ...      ...      ...       ...         ...      ...   \n",
       "2235  10870        1967  61223.0        0         1  13-06-2013       46   \n",
       "2236   4001        1946  64014.0        2         1  10-06-2014       56   \n",
       "2237   7270        1981  56981.0        0         0  25-01-2014       91   \n",
       "2238   8235        1956  69245.0        0         1  24-01-2014        8   \n",
       "2239   9405        1954  52869.0        1         1  15-10-2012       40   \n",
       "\n",
       "      MntWines  MntFruits  MntMeatProducts  ...  Education_Master  \\\n",
       "0          635         88              546  ...                 0   \n",
       "1           11          1                6  ...                 0   \n",
       "2          426         49              127  ...                 0   \n",
       "3           11          4               20  ...                 0   \n",
       "4          173         43              118  ...                 0   \n",
       "...        ...        ...              ...  ...               ...   \n",
       "2235       709         43              182  ...                 0   \n",
       "2236       406          0               30  ...                 0   \n",
       "2237       908         48              217  ...                 0   \n",
       "2238       428         30              214  ...                 1   \n",
       "2239        84          3               61  ...                 0   \n",
       "\n",
       "      Education_PhD  Marital_Status_Absurd  Marital_Status_Alone  \\\n",
       "0                 0                      0                     0   \n",
       "1                 0                      0                     0   \n",
       "2                 0                      0                     0   \n",
       "3                 0                      0                     0   \n",
       "4                 1                      0                     0   \n",
       "...             ...                    ...                   ...   \n",
       "2235              0                      0                     0   \n",
       "2236              1                      0                     0   \n",
       "2237              0                      0                     0   \n",
       "2238              0                      0                     0   \n",
       "2239              1                      0                     0   \n",
       "\n",
       "      Marital_Status_Divorced  Marital_Status_Married  Marital_Status_Single  \\\n",
       "0                           0                       0                      1   \n",
       "1                           0                       0                      1   \n",
       "2                           0                       0                      0   \n",
       "3                           0                       0                      0   \n",
       "4                           0                       1                      0   \n",
       "...                       ...                     ...                    ...   \n",
       "2235                        0                       1                      0   \n",
       "2236                        0                       0                      0   \n",
       "2237                        1                       0                      0   \n",
       "2238                        0                       0                      0   \n",
       "2239                        0                       1                      0   \n",
       "\n",
       "      Marital_Status_Together  Marital_Status_Widow  Marital_Status_YOLO  \n",
       "0                           0                     0                    0  \n",
       "1                           0                     0                    0  \n",
       "2                           1                     0                    0  \n",
       "3                           1                     0                    0  \n",
       "4                           0                     0                    0  \n",
       "...                       ...                   ...                  ...  \n",
       "2235                        0                     0                    0  \n",
       "2236                        1                     0                    0  \n",
       "2237                        0                     0                    0  \n",
       "2238                        1                     0                    0  \n",
       "2239                        0                     0                    0  \n",
       "\n",
       "[2240 rows x 40 columns]"
      ]
     },
     "execution_count": 21,
     "metadata": {},
     "output_type": "execute_result"
    }
   ],
   "source": [
    "df_encoded = pd.get_dummies(df , columns=['Education', 'Marital_Status'])\n",
    "df_encoded"
   ]
  },
  {
   "cell_type": "markdown",
   "id": "ef73f3f0",
   "metadata": {},
   "source": [
    "# feature transforamtion/ feature engineering"
   ]
  },
  {
   "cell_type": "code",
   "execution_count": 22,
   "id": "979f576f",
   "metadata": {
    "ExecuteTime": {
     "end_time": "2022-07-03T19:25:27.743570Z",
     "start_time": "2022-07-03T19:25:27.682456Z"
    }
   },
   "outputs": [],
   "source": [
    "# for Dt_customer column we will delete this column \n",
    "# and derive a new column based on this column whose data will be from today how many years an customer is with company\n",
    "\n",
    "\n",
    "for i in range(df.shape[0]): \n",
    "#     print(i, '-'*5,type(i))\n",
    "    temp = df_encoded.at[i, 'Dt_Customer']\n",
    "    date = datetime.strptime(temp, '%d-%m-%Y')\n",
    "    \n",
    "    current_date = datetime.now()\n",
    "    \n",
    "    time = (current_date - date).days\n",
    "    \n",
    "    \n",
    "    df_encoded.at[i, 'Customer_dt'] = math.ceil(time/365)\n",
    "\n",
    "df_encoded.drop('Dt_Customer', inplace=True, axis = 1)\n"
   ]
  },
  {
   "cell_type": "code",
   "execution_count": 23,
   "id": "fa2de09c",
   "metadata": {
    "ExecuteTime": {
     "end_time": "2022-07-03T19:25:27.758535Z",
     "start_time": "2022-07-03T19:25:27.744573Z"
    }
   },
   "outputs": [
    {
     "data": {
      "text/plain": [
       "0       10.0\n",
       "1        9.0\n",
       "2        9.0\n",
       "3        9.0\n",
       "4        9.0\n",
       "        ... \n",
       "2235    10.0\n",
       "2236     9.0\n",
       "2237     9.0\n",
       "2238     9.0\n",
       "2239    10.0\n",
       "Name: Customer_dt, Length: 2240, dtype: float64"
      ]
     },
     "execution_count": 23,
     "metadata": {},
     "output_type": "execute_result"
    }
   ],
   "source": [
    "df_encoded['Customer_dt']"
   ]
  },
  {
   "cell_type": "code",
   "execution_count": null,
   "id": "f59a960b",
   "metadata": {
    "ExecuteTime": {
     "end_time": "2022-07-03T19:01:22.058186Z",
     "start_time": "2022-07-03T19:01:22.050211Z"
    }
   },
   "outputs": [],
   "source": []
  },
  {
   "cell_type": "markdown",
   "id": "582772ed",
   "metadata": {},
   "source": [
    "# Clustering using k-means algorithm"
   ]
  },
  {
   "cell_type": "markdown",
   "id": "d5c6419b",
   "metadata": {},
   "source": [
    "### Determing hyperparameter k"
   ]
  },
  {
   "cell_type": "code",
   "execution_count": 24,
   "id": "128362fa",
   "metadata": {
    "ExecuteTime": {
     "end_time": "2022-07-03T19:25:36.240285Z",
     "start_time": "2022-07-03T19:25:27.759533Z"
    }
   },
   "outputs": [
    {
     "name": "stderr",
     "output_type": "stream",
     "text": [
      "100%|██████████████████████████████████████████████████████████████████████████████████| 19/19 [00:08<00:00,  2.24it/s]\n"
     ]
    },
    {
     "data": {
      "text/plain": [
       "[1427740641107.4978,\n",
       " 704600982185.802,\n",
       " 349375591953.0662,\n",
       " 206890694669.81824,\n",
       " 147728465654.2769,\n",
       " 105839924966.68901,\n",
       " 77259286990.73817,\n",
       " 64134655741.291,\n",
       " 54819741894.13142,\n",
       " 47706468439.09783,\n",
       " 42520266312.58793,\n",
       " 39122749484.54051,\n",
       " 36409680478.597244,\n",
       " 33647921065.935547,\n",
       " 30852111058.310627,\n",
       " 28558515323.18417,\n",
       " 26491893442.713688,\n",
       " 24611382978.21478,\n",
       " 23058701187.43276]"
      ]
     },
     "execution_count": 24,
     "metadata": {},
     "output_type": "execute_result"
    }
   ],
   "source": [
    "wss_score = []  # This list will contain wss score \n",
    "\n",
    "# so we will use k values from 1 to 20\n",
    "for i in tqdm(range(1,20)):\n",
    "    kmean_model = KMeans(n_clusters=i, init='k-means++', n_init=25, algorithm=\"auto\")\n",
    "    kmean_model.fit(df_encoded)\n",
    "    wss_score.append(kmean_model.inertia_)\n",
    "    \n",
    "wss_score"
   ]
  },
  {
   "cell_type": "markdown",
   "id": "050c51b7",
   "metadata": {},
   "source": [
    "### Plotting elbow plot"
   ]
  },
  {
   "cell_type": "code",
   "execution_count": 25,
   "id": "cb5f63f8",
   "metadata": {
    "ExecuteTime": {
     "end_time": "2022-07-03T19:25:36.394871Z",
     "start_time": "2022-07-03T19:25:36.241282Z"
    }
   },
   "outputs": [
    {
     "data": {
      "image/png": "[encoded data removed]",
      "text/plain": [
       "<Figure size 432x288 with 1 Axes>"
      ]
     },
     "metadata": {
      "needs_background": "light"
     },
     "output_type": "display_data"
    }
   ],
   "source": [
    "x = [i for i in range(1,20)]\n",
    "plt.plot(x, wss_score, linestyle = 'solid')\n",
    "plt.xticks(x)\n",
    "plt.grid()"
   ]
  },
  {
   "cell_type": "code",
   "execution_count": 26,
   "id": "6bd08199",
   "metadata": {
    "ExecuteTime": {
     "end_time": "2022-07-03T19:25:36.410828Z",
     "start_time": "2022-07-03T19:25:36.396867Z"
    }
   },
   "outputs": [],
   "source": [
    "# by looking at elbow plot I think number of clusters should be 4 because from there we have a sharp fall in graph"
   ]
  },
  {
   "cell_type": "markdown",
   "id": "738f45fe",
   "metadata": {},
   "source": [
    "# k-mean clustering using value of k = 4"
   ]
  },
  {
   "cell_type": "code",
   "execution_count": 27,
   "id": "7a0b506b",
   "metadata": {
    "ExecuteTime": {
     "end_time": "2022-07-03T19:25:36.722993Z",
     "start_time": "2022-07-03T19:25:36.411827Z"
    }
   },
   "outputs": [],
   "source": [
    "kmean_model = KMeans(n_clusters=4, init='k-means++', n_init=25, algorithm=\"auto\")\n",
    "kmean_model.fit(df_encoded)\n",
    "\n",
    "clusters = kmean_model.labels_"
   ]
  },
  {
   "cell_type": "code",
   "execution_count": 28,
   "id": "550cf0d5",
   "metadata": {
    "ExecuteTime": {
     "end_time": "2022-07-03T19:25:36.738951Z",
     "start_time": "2022-07-03T19:25:36.725986Z"
    }
   },
   "outputs": [
    {
     "data": {
      "text/plain": [
       "array([3, 3, 0, ..., 3, 0, 3])"
      ]
     },
     "execution_count": 28,
     "metadata": {},
     "output_type": "execute_result"
    }
   ],
   "source": [
    "clusters"
   ]
  },
  {
   "cell_type": "markdown",
   "id": "fdc4d4b0",
   "metadata": {},
   "source": [
    "# saving clusters labels to submission csv file"
   ]
  },
  {
   "cell_type": "code",
   "execution_count": 29,
   "id": "7253e502",
   "metadata": {
    "ExecuteTime": {
     "end_time": "2022-07-03T19:25:36.753912Z",
     "start_time": "2022-07-03T19:25:36.739948Z"
    }
   },
   "outputs": [],
   "source": [
    "submission_df = pd.DataFrame(data=clusters, columns=['Clusters'])\n",
    "\n",
    "submission_df.to_csv('dhruvil_dholariya.csv', index=False)"
   ]
  },
  {
   "cell_type": "code",
   "execution_count": null,
   "id": "ae4f3217",
   "metadata": {},
   "outputs": [],
   "source": []
  }
 ],
 "metadata": {
  "kernelspec": {
   "display_name": "Python 3 (ipykernel)",
   "language": "python",
   "name": "python3"
  },
  "language_info": {
   "codemirror_mode": {
    "name": "ipython",
    "version": 3
   },
   "file_extension": ".py",
   "mimetype": "text/x-python",
   "name": "python",
   "nbconvert_exporter": "python",
   "pygments_lexer": "ipython3",
   "version": "3.8.9"
  }
 },
 "nbformat": 4,
 "nbformat_minor": 5
}
